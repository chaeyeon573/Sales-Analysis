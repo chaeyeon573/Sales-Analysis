{
  "nbformat": 4,
  "nbformat_minor": 0,
  "metadata": {
    "colab": {
      "provenance": [],
      "authorship_tag": "ABX9TyPksCFmMd79HNbCP/q1ExZU",
      "include_colab_link": true
    },
    "kernelspec": {
      "name": "python3",
      "display_name": "Python 3"
    },
    "language_info": {
      "name": "python"
    }
  },
  "cells": [
    {
      "cell_type": "markdown",
      "metadata": {
        "id": "view-in-github",
        "colab_type": "text"
      },
      "source": [
        "<a href=\"https://colab.research.google.com/github/chaeyeon573/Sales-Analysis/blob/main/Project_Sales_Analysis_Project.ipynb\" target=\"_parent\"><img src=\"https://colab.research.google.com/assets/colab-badge.svg\" alt=\"Open In Colab\"/></a>"
      ]
    },
    {
      "cell_type": "code",
      "execution_count": null,
      "metadata": {
        "id": "6gwUTEwax2bm"
      },
      "outputs": [],
      "source": [
        "# 필요 라이브러리 호출하기\n",
        "import pandas as pd\n",
        "import numpy as np\n",
        "import matplotlib.pyplot as plt\n",
        "import seaborn as sns\n",
        "\n",
        "plt.style.use('default')"
      ]
    },
    {
      "cell_type": "code",
      "source": [
        "# 데이터 호출하기\n",
        "entry_data = pd.read_csv('/aiffel/data/entry_data.csv')\n",
        "sales_data = pd.read_csv('/aiffel/data/sales_data.csv')\n",
        "item_data = pd.read_csv('/aiffel/data/item_data.csv')\n",
        "item_entry_data = pd.read_csv('/aiffel/data/item_entry_data.csv')"
      ],
      "metadata": {
        "id": "GYFnsZywx7-n"
      },
      "execution_count": null,
      "outputs": []
    },
    {
      "cell_type": "code",
      "source": [
        "# entry_data 데이터 정보 확인하기\n",
        "entry_data.head()"
      ],
      "metadata": {
        "id": "4_3yBU6nyAEQ"
      },
      "execution_count": null,
      "outputs": []
    },
    {
      "cell_type": "code",
      "source": [
        "item_data.head()"
      ],
      "metadata": {
        "id": "b4YubhlkyEMp"
      },
      "execution_count": null,
      "outputs": []
    },
    {
      "cell_type": "code",
      "source": [
        "# 문제 1: 월별 매출액 추세\n",
        "# 활용할 데이터(sales_data)를 temp_var로 정의하기\n",
        "# [[YOUR CODE]]\n",
        "\n",
        "temp_var = sales_data\n",
        "\n",
        "# temp_var의 date열을 만들고, sales_date의 결제일시 중 앞에서 7번째 값까지 할당\n",
        "# [[YOUR CODE]]\n",
        "\n",
        "temp_var[\"date\"] = temp_var['결제일시'].str[:7]\n",
        "\n",
        "temp_var"
      ],
      "metadata": {
        "id": "_EyBvlVkyBQc"
      },
      "execution_count": null,
      "outputs": []
    },
    {
      "cell_type": "code",
      "source": [
        "# sales_data의 결제금액에 포함된 쉼표(,) 지우기\n",
        "# [[YOUR CODE]]\n",
        "sales_data['결제금액'] = sales_data['결제금액'].replace(\",\",\"\", regex = True)\n",
        "\n",
        "# sales_data의 결제금액을 숫자형태로 바꾸기\n",
        "# [[YOUR CODE]]\n",
        "\n",
        "sales_data['결제금액'] = sales_data['결제금액'].astype(int)\n",
        "sales_data\n",
        "\n",
        "# temp_var의 payment열을 date 기준으로 집계하기\n",
        "# [[YOUR CODE]]\n",
        "\n",
        "payment_data = temp_var['결제금액'].groupby(temp_var[\"date\"]).sum()\n",
        "payment_data.reset_index(drop = False)"
      ],
      "metadata": {
        "id": "ExxfP0FryGv5"
      },
      "execution_count": null,
      "outputs": []
    },
    {
      "cell_type": "code",
      "source": [
        "# 집계 결과를 시각화하기\n",
        "# [[YOUR CODE]]\n",
        "\n",
        "# payment_data.plot()\n",
        "payment_data.rename(columns = {\"결제금액\":'payment'}, inplace = True)\n",
        "payment_data\n",
        "plt.figure(figsize = (15,5))\n",
        "ax = sns.barplot(x = payment_data[\"date\"], y = payment_data['payment'])\n",
        "\n",
        "\n",
        "\n",
        "container = ax.containers[0]\n",
        "\n",
        "ax.bar_label( container, labels = [f'{x:,.0f}' for x in container.datavalues],label_type = \"center\")\n",
        "\n",
        "\n",
        "plt.title(\"payment by month\")\n",
        "plt.xlabel(\"date\")\n",
        "plt.ylabel(\"won\")"
      ],
      "metadata": {
        "id": "D6_jZgyKyLOR"
      },
      "execution_count": null,
      "outputs": []
    },
    {
      "cell_type": "code",
      "source": [
        "# 문제 2: 가장 인기 있는 음식/음료\n",
        "# temp_var의 상품명을 value_counts를 이용해 집계하기\n",
        "# 주의! value_counts로 바로 집계하면 판매취소와 결제취소가 함께 집계됩니다.\n",
        "# 따라서 '판매수량' 칼럼 값이 '-1'인 데이터를 제외하고 집계해야 합니다.\n",
        "# 힌트 코드 : temp_var[temp_var['판매수량']==-1]\n",
        "# [[YOUR CODE]]\n",
        "\n",
        "# 집계 결과를 데이터프레임으로 변환하고, 상위 10개 선정하기\n",
        "# [[YOUR CODE]]\n",
        "\n",
        "\n",
        "temp_var = sales_data\n",
        "temp_var = temp_var[temp_var['판매수량']!=-1].copy()\n",
        "temp_var\n",
        "\n",
        "temp_var.loc[:,'실결제금액'] = temp_var['판매수량']*temp_var['결제금액']\n",
        "temp_var[temp_var['결제금액']!=temp_var['실결제금액']]\n",
        "temp_var\n"
      ],
      "metadata": {
        "id": "RD_xlnKGyOBt"
      },
      "execution_count": null,
      "outputs": []
    },
    {
      "cell_type": "code",
      "source": [
        "temp_var_sales = temp_var.groupby('상품명')['결제금액'].sum()\n",
        "temp_var_sales = temp_var_sales.sort_values( ascending = False)\n",
        "temp_var_sales = temp_var_sales.reset_index(drop = False)\n",
        "temp_var_sales\n",
        "\n",
        "product_price = temp_var.groupby('결제금액')['상품명'].sum()\n",
        "product_price = product_price.sort_values(ascending = False)\n",
        "product_price =  product_price.reset_index(drop = False)\n",
        "temp_var.drop_duplicates(subset = '상품명',inplace = True, keep = 'first' )\n",
        "print(temp_var)\n",
        "temp_var.info()\n",
        "\n",
        "# # print(type(temp_var_sales))\n",
        "unique_values = temp_var_sales[['상품명','결제금액']].unique()\n",
        "# print(len(unique_values))"
      ],
      "metadata": {
        "id": "Xo7SsPN5yOv6"
      },
      "execution_count": null,
      "outputs": []
    },
    {
      "cell_type": "code",
      "source": [
        "# 한글이 포함된 시각화를 위해 Matplotlib 설정\n",
        "import matplotlib as mpl\n",
        "import matplotlib.pyplot as plt\n",
        "import matplotlib.font_manager as fm\n",
        "\n",
        "fontpath = '/usr/share/fonts/truetype/nanum/NanumBarunGothic.ttf'\n",
        "font = fm.FontProperties(fname=fontpath, size=9)\n",
        "plt.rc('font', family='NanumBarunGothic')\n",
        "mpl.font_manager.findfont(font)\n",
        "print(\"완료!\")"
      ],
      "metadata": {
        "id": "HN_v1YY8yQ-m"
      },
      "execution_count": null,
      "outputs": []
    },
    {
      "cell_type": "code",
      "source": [
        "# 집계 결과를 시각화하기\n",
        "\n",
        "import matplotlib.pyplot as plt\n",
        "import seaborn as sns\n",
        "\n",
        "# 데이터 준비\n",
        "best_10 = temp_var_sales[:10]  # 최다 매출 상품 10개\n",
        "plt.figure(figsize=(15, 6))\n",
        "\n",
        "# 막대그래프 생성\n",
        "ax = sns.barplot(data=best_10, x=\"상품명\", y=\"결제금액\")\n",
        "container = ax.containers[0]\n",
        "\n",
        "# 상품명과 금액을 함께 표시\n",
        "ax.bar_label(\n",
        "    container,\n",
        "    labels=[\n",
        "        f'{product}\\n매출: {value:,.0f}원\\n상품가: {price:,.0f}'\n",
        "        for product, value, price in zip(best_10['상품명'], container.datavalues,temp_var['결제금액'].to_list())\n",
        "    ],\n",
        "    label_type=\"center\"\n",
        ")\n",
        "\n",
        "# 그래프 꾸미기\n",
        "plt.xlabel(\"상품\")\n",
        "plt.ylabel(\"결제금액\")\n",
        "plt.title(\"최다 매출 상품 10개\")\n",
        "plt.xticks(rotation=45)  # 상품명이 겹치지 않게 회전\n",
        "plt.tight_layout()\n",
        "plt.show()\n"
      ],
      "metadata": {
        "id": "h9vIEx8TyUo3"
      },
      "execution_count": null,
      "outputs": []
    },
    {
      "cell_type": "code",
      "source": [
        "# 문제 3: 가장 많이 팔린 입장권 종류\n",
        "# 활용할 데이터(entry_data)를 temp_var로 정의하기\n",
        "# [[YOUR CODE]]\n",
        "temp_var = entry_data\n",
        "print(temp_var)\n",
        "\n",
        "# temp_var의 금액을 숫자형태로 변환하기\n",
        "# [[YOUR CODE]]\n",
        "pd.to_numeric(temp_var['금액'])\n",
        "temp_var.drop_duplicates(subset = None, keep = \"first\", inplace = True )\n",
        "print(temp_var)\n",
        "sales_by_product = temp_var.groupby(\"요금제명\").agg({\"금액\":[\"sum\",\"mean\"]}).reset_index()\n",
        "\n",
        "sales_by_product.columns = ['요금제명',\"매출\",\"단가\"]\n",
        "print(sales_by_product)\n",
        "\n",
        "sales_by_product = sales_by_product.reset_index(drop=False)\n",
        "sales_by_product.sort_values(by = \"매출\", ascending= False, inplace = True)\n",
        "top_10 = sales_by_product[:10]\n",
        "# temp_var의 금액을 요금제명을 기준으로 집계하기\n",
        "# [[YOUR CODE]]\n",
        "\n",
        "# top_10 = top_10.reset_index(drop = False)\n",
        "# # top_10['상품가격'] = sales\n",
        "\n",
        "plt.figure(figsize = (15,6))\n",
        "ax  =  sns.barplot( data = top_10, x = \"요금제명\", y = \"매출\")\n",
        "container = ax.containers[0]\n",
        "ax.bar_label(container, labels = [f'\\n{sales:,.0f}원\\n{price:,.0f}원' for  sales, price in zip(container.datavalues, top_10[\"단가\"])])\n",
        "print(top_10.columns)\n",
        "plt.xlabel(\"요금제명\")\n",
        "plt.ylabel(\"금액\")\n",
        "plt.show()\n"
      ],
      "metadata": {
        "id": "roSOtv2MyW7d"
      },
      "execution_count": null,
      "outputs": []
    },
    {
      "cell_type": "markdown",
      "source": [
        "월별 매출액 추세: 2021년 6월이 가장 높은 매출액을, 2021년 9월이 가장 낮은 매출액을 보인다.\n",
        "가장 인기있는 음식/음료: 김치볶음밥, 그리고 라면이 가장 많이 팔렸다.\n",
        "가장 많이 팔린 입장권 종류: 한국대생(종일권)이 가장 많이 팔렸다. 두번째는 일반 입장권(종일권)이다\n",
        "\n",
        "식품 가격의 변동이 필요하다. (예, 불닭볶음면의 가격 인상 ) 여름에 손님이 적으니 여름철 독서실의 실내환경을 점검해보는 것이 좋겠다. (에어컨을 더 많이 튼다던지 등)"
      ],
      "metadata": {
        "id": "939H0Tq8ybzi"
      }
    }
  ]
}